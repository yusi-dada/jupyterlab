{
 "cells": [
  {
   "cell_type": "markdown",
   "id": "5eb35390-e30d-4154-a62e-c84945d19771",
   "metadata": {},
   "source": [
    "# controlライブラリ"
   ]
  },
  {
   "cell_type": "code",
   "execution_count": 17,
   "id": "c4c0bfff-d9c0-4794-9ed9-b0105f2d5591",
   "metadata": {},
   "outputs": [
    {
     "name": "stdout",
     "output_type": "stream",
     "text": [
      "The autoreload extension is already loaded. To reload it, use:\n",
      "  %reload_ext autoreload\n"
     ]
    }
   ],
   "source": [
    "%reset -f\n",
    "%load_ext autoreload\n",
    "%autoreload 2\n",
    "import numpy as np\n",
    "import scipy as sp\n",
    "import control"
   ]
  },
  {
   "cell_type": "markdown",
   "id": "1039bab9-ffb9-40da-a126-b8cb655da585",
   "metadata": {},
   "source": [
    "# 伝達関数"
   ]
  },
  {
   "cell_type": "code",
   "execution_count": 18,
   "id": "d8a05eac-6f7b-4f7d-84be-606efa782c1a",
   "metadata": {},
   "outputs": [
    {
     "name": "stdout",
     "output_type": "stream",
     "text": [
      "Help on package control:\n",
      "\n",
      "NAME\n",
      "    control\n",
      "\n",
      "DESCRIPTION\n",
      "    The Python Control Systems Library :mod:`control` provides common functions\n",
      "    for analyzing and designing feedback control systems.\n",
      "\n",
      "PACKAGE CONTENTS\n",
      "    _version\n",
      "    bdalg\n",
      "    canonical\n",
      "    config\n",
      "    ctrlutil\n",
      "    delay\n",
      "    descfcn\n",
      "    dtime\n",
      "    exception\n",
      "    flatsys (package)\n",
      "    frdata\n",
      "    freqplot\n",
      "    grid\n",
      "    iosys\n",
      "    lti\n",
      "    margins\n",
      "    mateqn\n",
      "    matlab (package)\n",
      "    modelsimp\n",
      "    nichols\n",
      "    optimal\n",
      "    phaseplot\n",
      "    pzmap\n",
      "    rlocus\n",
      "    robust\n",
      "    sisotool\n",
      "    statefbk\n",
      "    statesp\n",
      "    tests (package)\n",
      "    timeresp\n",
      "    xferfcn\n",
      "\n",
      "DATA\n",
      "    __commit__ = 'ga111b03'\n",
      "    defaults = {'control.default_dt': 0, 'control.squeeze_frequ...ys.linea...\n",
      "    slycot_installed = None\n",
      "\n",
      "VERSION\n",
      "    0.9.1\n",
      "\n",
      "FILE\n",
      "    /home/ubuntu/.local/lib/python3.8/site-packages/control/__init__.py\n",
      "\n",
      "\n"
     ]
    }
   ],
   "source": [
    "help(control)\n"
   ]
  },
  {
   "cell_type": "code",
   "execution_count": null,
   "id": "583828db-a5e6-4001-92e5-3e724518bfec",
   "metadata": {},
   "outputs": [],
   "source": []
  }
 ],
 "metadata": {
  "kernelspec": {
   "display_name": "Python 3 (ipykernel)",
   "language": "python",
   "name": "python3"
  },
  "language_info": {
   "codemirror_mode": {
    "name": "ipython",
    "version": 3
   },
   "file_extension": ".py",
   "mimetype": "text/x-python",
   "name": "python",
   "nbconvert_exporter": "python",
   "pygments_lexer": "ipython3",
   "version": "3.8.10"
  }
 },
 "nbformat": 4,
 "nbformat_minor": 5
}
