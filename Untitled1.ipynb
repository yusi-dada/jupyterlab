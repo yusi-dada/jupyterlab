{
 "cells": [
  {
   "cell_type": "code",
   "execution_count": 7,
   "id": "3260bf61-1e6a-46e4-a772-e684b93c63cb",
   "metadata": {},
   "outputs": [
    {
     "name": "stdout",
     "output_type": "stream",
     "text": [
      "The autoreload extension is already loaded. To reload it, use:\n",
      "  %reload_ext autoreload\n"
     ]
    }
   ],
   "source": [
    "%reset -f\n",
    "%load_ext autoreload\n",
    "%autoreload 2\n",
    "\n",
    "import os, sys\n",
    "sys.path.append(os.path.join(os.getcwd(), 'my_lib'))\n",
    "\n",
    "#import ipynb_import_lib\n",
    "#ode = ipynb_import_lib.import_ipynb(\"InvariantSet_sample.ipynb\", no_expr=False)"
   ]
  },
  {
   "cell_type": "code",
   "execution_count": 12,
   "id": "a4116727-5140-49d2-b7cf-ef47b5ee0b0e",
   "metadata": {},
   "outputs": [
    {
     "data": {
      "text/plain": [
       "array([[0, 3],\n",
       "       [1, 4],\n",
       "       [2, 5]])"
      ]
     },
     "execution_count": 12,
     "metadata": {},
     "output_type": "execute_result"
    }
   ],
   "source": [
    "import numpy as np\n",
    "\n",
    "a = [0,1,2]\n",
    "b = [3,4,5]\n",
    "c = np.vstack([a,b])\n",
    "c.T"
   ]
  },
  {
   "cell_type": "code",
   "execution_count": null,
   "id": "16f4dcf1-c34b-4094-a929-045552e0dcdd",
   "metadata": {},
   "outputs": [],
   "source": []
  }
 ],
 "metadata": {
  "kernelspec": {
   "display_name": "Python 3 (ipykernel)",
   "language": "python",
   "name": "python3"
  },
  "language_info": {
   "codemirror_mode": {
    "name": "ipython",
    "version": 3
   },
   "file_extension": ".py",
   "mimetype": "text/x-python",
   "name": "python",
   "nbconvert_exporter": "python",
   "pygments_lexer": "ipython3",
   "version": "3.8.10"
  }
 },
 "nbformat": 4,
 "nbformat_minor": 5
}
