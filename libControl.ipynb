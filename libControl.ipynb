{
 "cells": [
  {
   "cell_type": "markdown",
   "id": "10f5900f-bdea-4259-8184-624f40197111",
   "metadata": {},
   "source": [
    "# 制御ライブラリ"
   ]
  },
  {
   "cell_type": "code",
   "execution_count": 1,
   "id": "2be29ad3-6642-4652-94f6-ccc0c9f4ae64",
   "metadata": {},
   "outputs": [],
   "source": [
    "%reset -f\n",
    "%load_ext autoreload\n",
    "%autoreload 2\n",
    "%matplotlib inline\n",
    "\n",
    "import os, sys\n",
    "import numpy as np\n",
    "import polytope as pc\n",
    "\n",
    "sys.path.append(os.path.join(os.getcwd(), 'my_lib'))\n",
    "from func_plot import *\n",
    "from func_polytope import *"
   ]
  },
  {
   "cell_type": "code",
   "execution_count": null,
   "id": "3579d362-465b-428e-b3f5-9a691e4c4597",
   "metadata": {},
   "outputs": [],
   "source": []
  }
 ],
 "metadata": {
  "kernelspec": {
   "display_name": "Python 3 (ipykernel)",
   "language": "python",
   "name": "python3"
  },
  "language_info": {
   "codemirror_mode": {
    "name": "ipython",
    "version": 3
   },
   "file_extension": ".py",
   "mimetype": "text/x-python",
   "name": "python",
   "nbconvert_exporter": "python",
   "pygments_lexer": "ipython3",
   "version": "3.8.10"
  }
 },
 "nbformat": 4,
 "nbformat_minor": 5
}
