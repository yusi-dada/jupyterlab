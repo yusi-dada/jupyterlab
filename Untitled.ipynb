{
 "cells": [
  {
   "cell_type": "markdown",
   "id": "8ae5825a-2dde-4af5-a050-cbf5b8551f95",
   "metadata": {},
   "source": [
    "# ロバスト安定性解析"
   ]
  },
  {
   "cell_type": "code",
   "execution_count": 1,
   "id": "f2fb0d1c-d48b-4c4f-a516-e08e925a629e",
   "metadata": {},
   "outputs": [],
   "source": [
    "%reset -f\n",
    "%load_ext autoreload\n",
    "%autoreload 2\n",
    "\n",
    "import numpy as np\n",
    "import cvxpy as cp"
   ]
  },
  {
   "cell_type": "code",
   "execution_count": 33,
   "id": "8cec5a09-f7ce-4c28-a516-2da1ee892c5a",
   "metadata": {},
   "outputs": [
    {
     "data": {
      "text/plain": [
       "array([[1.04626515, 0.19157065],\n",
       "       [0.19157065, 1.79323884]])"
      ]
     },
     "execution_count": 33,
     "metadata": {},
     "output_type": "execute_result"
    }
   ],
   "source": [
    "A1 = np.array([[-1.0, 2.9],[1.0, -3.0]])\n",
    "A2 = np.array([[-0.8, 1.5],[1.3, -2.7]])\n",
    "A3 = np.array([[-1.4, 0.9],[0.7, -2.0]])\n",
    "A = np.vstack([[A1],[A2],[A3]])\n",
    "P = cp.Variable((2, 2), symmetric=True)\n",
    "constr = [P-np.eye(2) >> 0]\n",
    "for i in range(len(A)):\n",
    "    constr += [P@A[i] + A[i].T@P << 0]\n",
    "target = cp.Minimize(cp.trace(P))\n",
    "prob   = cp.Problem(target, constr)\n",
    "result = prob.solve(solver=\"CVXOPT\", verbose=False)\n",
    "P.value"
   ]
  },
  {
   "cell_type": "code",
   "execution_count": null,
   "id": "b23cfbae-f0a8-40b3-8e01-4e4c44a54371",
   "metadata": {},
   "outputs": [],
   "source": []
  },
  {
   "cell_type": "code",
   "execution_count": null,
   "id": "68e8fd85-6a4a-4ee0-a55a-08348709f475",
   "metadata": {},
   "outputs": [],
   "source": []
  }
 ],
 "metadata": {
  "kernelspec": {
   "display_name": "Python 3 (ipykernel)",
   "language": "python",
   "name": "python3"
  },
  "language_info": {
   "codemirror_mode": {
    "name": "ipython",
    "version": 3
   },
   "file_extension": ".py",
   "mimetype": "text/x-python",
   "name": "python",
   "nbconvert_exporter": "python",
   "pygments_lexer": "ipython3",
   "version": "3.8.10"
  }
 },
 "nbformat": 4,
 "nbformat_minor": 5
}
