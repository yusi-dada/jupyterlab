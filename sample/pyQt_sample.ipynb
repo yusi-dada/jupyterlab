{
 "cells": [
  {
   "cell_type": "code",
   "execution_count": 11,
   "id": "40772b11-f8ce-4f01-b654-6b76590d443f",
   "metadata": {},
   "outputs": [
    {
     "name": "stdout",
     "output_type": "stream",
     "text": [
      "The autoreload extension is already loaded. To reload it, use:\n",
      "  %reload_ext autoreload\n"
     ]
    }
   ],
   "source": [
    "%reset -f\n",
    "%load_ext autoreload\n",
    "%autoreload 2\n",
    "%matplotlib inline\n",
    "\n",
    "import os, sys\n",
    "sys.path.append(os.path.join(os.getcwd(), 'my_lib'))\n",
    "\n",
    "from qt_dialog import *\n",
    "app = QApplication(sys.argv)\n"
   ]
  },
  {
   "cell_type": "code",
   "execution_count": 12,
   "id": "a09fbd3a-3bed-4310-8b0c-f945d2d84907",
   "metadata": {},
   "outputs": [
    {
     "data": {
      "text/plain": [
       "'/home/ubuntu/jupyterlab/control_sample.ipynb'"
      ]
     },
     "execution_count": 12,
     "metadata": {},
     "output_type": "execute_result"
    }
   ],
   "source": [
    "openDialog(folder_path=\"\", file_ext=None)"
   ]
  },
  {
   "cell_type": "code",
   "execution_count": null,
   "id": "61836faa-3a10-4c6c-84d7-580da0fab667",
   "metadata": {},
   "outputs": [],
   "source": []
  }
 ],
 "metadata": {
  "kernelspec": {
   "display_name": "Python 3 (ipykernel)",
   "language": "python",
   "name": "python3"
  },
  "language_info": {
   "codemirror_mode": {
    "name": "ipython",
    "version": 3
   },
   "file_extension": ".py",
   "mimetype": "text/x-python",
   "name": "python",
   "nbconvert_exporter": "python",
   "pygments_lexer": "ipython3",
   "version": "3.8.10"
  }
 },
 "nbformat": 4,
 "nbformat_minor": 5
}
